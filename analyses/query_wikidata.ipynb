{
 "cells": [
  {
   "cell_type": "code",
   "execution_count": 1,
   "id": "a5c4ee4a-f117-439f-a5f1-00ff75d814f2",
   "metadata": {},
   "outputs": [],
   "source": [
    "from SPARQLWrapper import SPARQLWrapper, JSON\n",
    "import pandas as pd"
   ]
  },
  {
   "cell_type": "code",
   "execution_count": 2,
   "id": "5b7c4b68-842b-491b-b0b3-f965ef2b5322",
   "metadata": {},
   "outputs": [],
   "source": [
    "sparql = SPARQLWrapper(\"https://query.wikidata.org/sparql\")"
   ]
  },
  {
   "cell_type": "code",
   "execution_count": 3,
   "id": "8094be1e-1f82-4c53-b307-e30de2e79253",
   "metadata": {},
   "outputs": [],
   "source": [
    "search = {\n",
    "    'mood disorders': 'Q188638',\n",
    "    'Mental and behavioural disorders': 'Q30085742',\n",
    "    'mental disorder': 'Q12135' #most complete\n",
    "}"
   ]
  },
  {
   "cell_type": "code",
   "execution_count": 4,
   "id": "334ded19-54c5-4ef4-b569-afaaeb456d32",
   "metadata": {},
   "outputs": [],
   "source": [
    "sparql.setQuery(\"\"\"\n",
    "SELECT ?item ?itemLabel ?url\n",
    "WHERE {{\n",
    "    ?item wdt:P279* wd:{}\n",
    "    SERVICE wikibase:label {{ bd:serviceParam wikibase:language \"en\" }}\n",
    "}}\n",
    "\"\"\".format(search['mental disorder']))\n",
    "sparql.setReturnFormat(JSON)\n",
    "results = sparql.query().convert()"
   ]
  },
  {
   "cell_type": "code",
   "execution_count": 5,
   "id": "986e9705-ad13-4ff4-987a-88cb5d197181",
   "metadata": {},
   "outputs": [
    {
     "data": {
      "text/plain": "     item.type                                item.value itemLabel.xml:lang  \\\n0          uri     http://www.wikidata.org/entity/Q12135                 en   \n1          uri    http://www.wikidata.org/entity/Q154430                 en   \n2          uri    http://www.wikidata.org/entity/Q177190                 en   \n3          uri    http://www.wikidata.org/entity/Q188638                 en   \n4          uri    http://www.wikidata.org/entity/Q270673                 en   \n...        ...                                       ...                ...   \n3018       uri  http://www.wikidata.org/entity/Q53661620                 en   \n3019       uri  http://www.wikidata.org/entity/Q53661622                 en   \n3020       uri  http://www.wikidata.org/entity/Q53661623                 en   \n3021       uri  http://www.wikidata.org/entity/Q27164454                 en   \n3022       uri  http://www.wikidata.org/entity/Q55345919                 en   \n\n     itemLabel.type                                   itemLabel.value  \n0           literal                                   mental disorder  \n1           literal                                           anxiety  \n2           literal                                    sleep disorder  \n3           literal                                    mood disorders  \n4           literal                              personality disorder  \n...             ...                                               ...  \n3018        literal                               Joubert syndrome 31  \n3019        literal                               Joubert syndrome 32  \n3020        literal                               Joubert syndrome 33  \n3021        literal  short-rib thoracic dysplasia 14 with polydactyly  \n3022        literal                       orofaciodigital syndrome XV  \n\n[3023 rows x 5 columns]",
      "text/html": "<div>\n<style scoped>\n    .dataframe tbody tr th:only-of-type {\n        vertical-align: middle;\n    }\n\n    .dataframe tbody tr th {\n        vertical-align: top;\n    }\n\n    .dataframe thead th {\n        text-align: right;\n    }\n</style>\n<table border=\"1\" class=\"dataframe\">\n  <thead>\n    <tr style=\"text-align: right;\">\n      <th></th>\n      <th>item.type</th>\n      <th>item.value</th>\n      <th>itemLabel.xml:lang</th>\n      <th>itemLabel.type</th>\n      <th>itemLabel.value</th>\n    </tr>\n  </thead>\n  <tbody>\n    <tr>\n      <th>0</th>\n      <td>uri</td>\n      <td>http://www.wikidata.org/entity/Q12135</td>\n      <td>en</td>\n      <td>literal</td>\n      <td>mental disorder</td>\n    </tr>\n    <tr>\n      <th>1</th>\n      <td>uri</td>\n      <td>http://www.wikidata.org/entity/Q154430</td>\n      <td>en</td>\n      <td>literal</td>\n      <td>anxiety</td>\n    </tr>\n    <tr>\n      <th>2</th>\n      <td>uri</td>\n      <td>http://www.wikidata.org/entity/Q177190</td>\n      <td>en</td>\n      <td>literal</td>\n      <td>sleep disorder</td>\n    </tr>\n    <tr>\n      <th>3</th>\n      <td>uri</td>\n      <td>http://www.wikidata.org/entity/Q188638</td>\n      <td>en</td>\n      <td>literal</td>\n      <td>mood disorders</td>\n    </tr>\n    <tr>\n      <th>4</th>\n      <td>uri</td>\n      <td>http://www.wikidata.org/entity/Q270673</td>\n      <td>en</td>\n      <td>literal</td>\n      <td>personality disorder</td>\n    </tr>\n    <tr>\n      <th>...</th>\n      <td>...</td>\n      <td>...</td>\n      <td>...</td>\n      <td>...</td>\n      <td>...</td>\n    </tr>\n    <tr>\n      <th>3018</th>\n      <td>uri</td>\n      <td>http://www.wikidata.org/entity/Q53661620</td>\n      <td>en</td>\n      <td>literal</td>\n      <td>Joubert syndrome 31</td>\n    </tr>\n    <tr>\n      <th>3019</th>\n      <td>uri</td>\n      <td>http://www.wikidata.org/entity/Q53661622</td>\n      <td>en</td>\n      <td>literal</td>\n      <td>Joubert syndrome 32</td>\n    </tr>\n    <tr>\n      <th>3020</th>\n      <td>uri</td>\n      <td>http://www.wikidata.org/entity/Q53661623</td>\n      <td>en</td>\n      <td>literal</td>\n      <td>Joubert syndrome 33</td>\n    </tr>\n    <tr>\n      <th>3021</th>\n      <td>uri</td>\n      <td>http://www.wikidata.org/entity/Q27164454</td>\n      <td>en</td>\n      <td>literal</td>\n      <td>short-rib thoracic dysplasia 14 with polydactyly</td>\n    </tr>\n    <tr>\n      <th>3022</th>\n      <td>uri</td>\n      <td>http://www.wikidata.org/entity/Q55345919</td>\n      <td>en</td>\n      <td>literal</td>\n      <td>orofaciodigital syndrome XV</td>\n    </tr>\n  </tbody>\n</table>\n<p>3023 rows × 5 columns</p>\n</div>"
     },
     "execution_count": 5,
     "metadata": {},
     "output_type": "execute_result"
    }
   ],
   "source": [
    "results_df = pd.json_normalize(results['results']['bindings'])\n",
    "results_df"
   ]
  },
  {
   "cell_type": "code",
   "execution_count": 6,
   "id": "1904650e-2562-4979-bf36-50696834d5a8",
   "metadata": {},
   "outputs": [],
   "source": [
    "entertainment = 'Q173799'\n",
    "games = 'Q11410'"
   ]
  },
  {
   "cell_type": "code",
   "execution_count": 7,
   "id": "18546864-4a2b-4420-9433-3be8ed9e2187",
   "metadata": {},
   "outputs": [],
   "source": [
    "sparql.setQuery(\"\"\"\n",
    "SELECT ?item ?itemLabel ?url\n",
    "WHERE {{\n",
    "    {{?item wdt:P279* wd:{}}}\n",
    "    UNION\n",
    "    {{?item wdt:P279* wd:{}}}\n",
    "    SERVICE wikibase:label {{ bd:serviceParam wikibase:language \"en\" }}\n",
    "}}\n",
    "\"\"\".format(entertainment, games))\n",
    "sparql.setReturnFormat(JSON)\n",
    "entertainment_results = sparql.query().convert()"
   ]
  },
  {
   "cell_type": "code",
   "execution_count": 8,
   "id": "4ea73582-29f4-4d7b-bfd9-18930bf6e7cc",
   "metadata": {},
   "outputs": [
    {
     "data": {
      "text/plain": "     item.type                                 item.value itemLabel.xml:lang  \\\n0          uri     http://www.wikidata.org/entity/Q757143                 en   \n1          uri     http://www.wikidata.org/entity/Q817138                 en   \n2          uri     http://www.wikidata.org/entity/Q848852                 en   \n3          uri     http://www.wikidata.org/entity/Q851213                 en   \n4          uri     http://www.wikidata.org/entity/Q863539                 en   \n...        ...                                        ...                ...   \n9053       uri  http://www.wikidata.org/entity/Q110485819                 en   \n9054       uri  http://www.wikidata.org/entity/Q110485855                 en   \n9055       uri   http://www.wikidata.org/entity/Q56281803                 en   \n9056       uri    http://www.wikidata.org/entity/Q3500894                 en   \n9057       uri    http://www.wikidata.org/entity/Q7684474                 en   \n\n     itemLabel.type                               itemLabel.value  \n0           literal                               chill-out music  \n1           literal                                   electronica  \n2           literal                                      Eurobeat  \n3           literal                        electronic dance music  \n4           literal                                binaural beats  \n...             ...                                           ...  \n9053        literal                            Steam Deck Model 1  \n9054        literal                            Steam Deck Model 2  \n9055        literal                                 Ace-Ten games  \n9056        literal  Seven card stud hi-low split-Eight or better  \n9057        literal                            Three Men's Morris  \n\n[9058 rows x 5 columns]",
      "text/html": "<div>\n<style scoped>\n    .dataframe tbody tr th:only-of-type {\n        vertical-align: middle;\n    }\n\n    .dataframe tbody tr th {\n        vertical-align: top;\n    }\n\n    .dataframe thead th {\n        text-align: right;\n    }\n</style>\n<table border=\"1\" class=\"dataframe\">\n  <thead>\n    <tr style=\"text-align: right;\">\n      <th></th>\n      <th>item.type</th>\n      <th>item.value</th>\n      <th>itemLabel.xml:lang</th>\n      <th>itemLabel.type</th>\n      <th>itemLabel.value</th>\n    </tr>\n  </thead>\n  <tbody>\n    <tr>\n      <th>0</th>\n      <td>uri</td>\n      <td>http://www.wikidata.org/entity/Q757143</td>\n      <td>en</td>\n      <td>literal</td>\n      <td>chill-out music</td>\n    </tr>\n    <tr>\n      <th>1</th>\n      <td>uri</td>\n      <td>http://www.wikidata.org/entity/Q817138</td>\n      <td>en</td>\n      <td>literal</td>\n      <td>electronica</td>\n    </tr>\n    <tr>\n      <th>2</th>\n      <td>uri</td>\n      <td>http://www.wikidata.org/entity/Q848852</td>\n      <td>en</td>\n      <td>literal</td>\n      <td>Eurobeat</td>\n    </tr>\n    <tr>\n      <th>3</th>\n      <td>uri</td>\n      <td>http://www.wikidata.org/entity/Q851213</td>\n      <td>en</td>\n      <td>literal</td>\n      <td>electronic dance music</td>\n    </tr>\n    <tr>\n      <th>4</th>\n      <td>uri</td>\n      <td>http://www.wikidata.org/entity/Q863539</td>\n      <td>en</td>\n      <td>literal</td>\n      <td>binaural beats</td>\n    </tr>\n    <tr>\n      <th>...</th>\n      <td>...</td>\n      <td>...</td>\n      <td>...</td>\n      <td>...</td>\n      <td>...</td>\n    </tr>\n    <tr>\n      <th>9053</th>\n      <td>uri</td>\n      <td>http://www.wikidata.org/entity/Q110485819</td>\n      <td>en</td>\n      <td>literal</td>\n      <td>Steam Deck Model 1</td>\n    </tr>\n    <tr>\n      <th>9054</th>\n      <td>uri</td>\n      <td>http://www.wikidata.org/entity/Q110485855</td>\n      <td>en</td>\n      <td>literal</td>\n      <td>Steam Deck Model 2</td>\n    </tr>\n    <tr>\n      <th>9055</th>\n      <td>uri</td>\n      <td>http://www.wikidata.org/entity/Q56281803</td>\n      <td>en</td>\n      <td>literal</td>\n      <td>Ace-Ten games</td>\n    </tr>\n    <tr>\n      <th>9056</th>\n      <td>uri</td>\n      <td>http://www.wikidata.org/entity/Q3500894</td>\n      <td>en</td>\n      <td>literal</td>\n      <td>Seven card stud hi-low split-Eight or better</td>\n    </tr>\n    <tr>\n      <th>9057</th>\n      <td>uri</td>\n      <td>http://www.wikidata.org/entity/Q7684474</td>\n      <td>en</td>\n      <td>literal</td>\n      <td>Three Men's Morris</td>\n    </tr>\n  </tbody>\n</table>\n<p>9058 rows × 5 columns</p>\n</div>"
     },
     "execution_count": 8,
     "metadata": {},
     "output_type": "execute_result"
    }
   ],
   "source": [
    "entertainment_df = pd.json_normalize(entertainment_results['results']['bindings'])\n",
    "entertainment_df\n",
    "#entertainment_df[entertainment_df['itemLabel.value'].str.startswith('')]"
   ]
  },
  {
   "cell_type": "code",
   "execution_count": 23,
   "id": "9263b19f-fff6-4cd5-85ef-e69c2e42823e",
   "metadata": {},
   "outputs": [],
   "source": [
    "\n",
    "sparql.setQuery(\"\"\"\n",
    "    PREFIX bd: <http://www.bigdata.com/rdf#>\n",
    "    PREFIX wd: <http://www.wikidata.org/entity/>\n",
    "    PREFIX wdt: <http://www.wikidata.org/prop/direct/>\n",
    "    PREFIX wikibase: <http://wikiba.se/ontology#>\n",
    "\n",
    "select  ?objet ?objectLabel ?genreLabel ?url\n",
    "where {\n",
    "    ?object wdt:P31 wd:Q7889.\n",
    "    ?object wdt:P136 ?genre.\n",
    "\n",
    "    SERVICE wikibase:label {\n",
    "      bd:serviceParam wikibase:language \"en\" .\n",
    "    }\n",
    "}\n",
    "\"\"\")\n",
    "sparql.setReturnFormat(JSON)\n",
    "games_result = sparql.query().convert()"
   ]
  },
  {
   "cell_type": "code",
   "execution_count": 24,
   "outputs": [
    {
     "data": {
      "text/plain": "      objectLabel.xml:lang objectLabel.type  \\\n0                       en          literal   \n1                       en          literal   \n2                       en          literal   \n3                       en          literal   \n4                       en          literal   \n...                    ...              ...   \n48488                   en          literal   \n48489                   en          literal   \n48490                   en          literal   \n48491                   en          literal   \n48492                   en          literal   \n\n                          objectLabel.value genreLabel.xml:lang  \\\n0                          Civilization III                  en   \n1                          Civilization III                  en   \n2                          Civilization III                  en   \n3                          Civilization III                  en   \n4                          Civilization III                  en   \n...                                     ...                 ...   \n48488       Insurgence - Chains of Renegade                  en   \n48489                              En-Train                  en   \n48490                  Fantasy Fishing Town                  en   \n48491  Rocco's Island: Ring to End the Pain                  en   \n48492                Super Space Serpent SE                  en   \n\n      genreLabel.type                genreLabel.value  \n0             literal             strategy video game  \n1             literal                              4X  \n2             literal           simulation video game  \n3             literal  turn-based strategy video game  \n4             literal          grand strategy wargame  \n...               ...                             ...  \n48488         literal                      indie game  \n48489         literal                      indie game  \n48490         literal                      indie game  \n48491         literal                      indie game  \n48492         literal                      indie game  \n\n[48493 rows x 6 columns]",
      "text/html": "<div>\n<style scoped>\n    .dataframe tbody tr th:only-of-type {\n        vertical-align: middle;\n    }\n\n    .dataframe tbody tr th {\n        vertical-align: top;\n    }\n\n    .dataframe thead th {\n        text-align: right;\n    }\n</style>\n<table border=\"1\" class=\"dataframe\">\n  <thead>\n    <tr style=\"text-align: right;\">\n      <th></th>\n      <th>objectLabel.xml:lang</th>\n      <th>objectLabel.type</th>\n      <th>objectLabel.value</th>\n      <th>genreLabel.xml:lang</th>\n      <th>genreLabel.type</th>\n      <th>genreLabel.value</th>\n    </tr>\n  </thead>\n  <tbody>\n    <tr>\n      <th>0</th>\n      <td>en</td>\n      <td>literal</td>\n      <td>Civilization III</td>\n      <td>en</td>\n      <td>literal</td>\n      <td>strategy video game</td>\n    </tr>\n    <tr>\n      <th>1</th>\n      <td>en</td>\n      <td>literal</td>\n      <td>Civilization III</td>\n      <td>en</td>\n      <td>literal</td>\n      <td>4X</td>\n    </tr>\n    <tr>\n      <th>2</th>\n      <td>en</td>\n      <td>literal</td>\n      <td>Civilization III</td>\n      <td>en</td>\n      <td>literal</td>\n      <td>simulation video game</td>\n    </tr>\n    <tr>\n      <th>3</th>\n      <td>en</td>\n      <td>literal</td>\n      <td>Civilization III</td>\n      <td>en</td>\n      <td>literal</td>\n      <td>turn-based strategy video game</td>\n    </tr>\n    <tr>\n      <th>4</th>\n      <td>en</td>\n      <td>literal</td>\n      <td>Civilization III</td>\n      <td>en</td>\n      <td>literal</td>\n      <td>grand strategy wargame</td>\n    </tr>\n    <tr>\n      <th>...</th>\n      <td>...</td>\n      <td>...</td>\n      <td>...</td>\n      <td>...</td>\n      <td>...</td>\n      <td>...</td>\n    </tr>\n    <tr>\n      <th>48488</th>\n      <td>en</td>\n      <td>literal</td>\n      <td>Insurgence - Chains of Renegade</td>\n      <td>en</td>\n      <td>literal</td>\n      <td>indie game</td>\n    </tr>\n    <tr>\n      <th>48489</th>\n      <td>en</td>\n      <td>literal</td>\n      <td>En-Train</td>\n      <td>en</td>\n      <td>literal</td>\n      <td>indie game</td>\n    </tr>\n    <tr>\n      <th>48490</th>\n      <td>en</td>\n      <td>literal</td>\n      <td>Fantasy Fishing Town</td>\n      <td>en</td>\n      <td>literal</td>\n      <td>indie game</td>\n    </tr>\n    <tr>\n      <th>48491</th>\n      <td>en</td>\n      <td>literal</td>\n      <td>Rocco's Island: Ring to End the Pain</td>\n      <td>en</td>\n      <td>literal</td>\n      <td>indie game</td>\n    </tr>\n    <tr>\n      <th>48492</th>\n      <td>en</td>\n      <td>literal</td>\n      <td>Super Space Serpent SE</td>\n      <td>en</td>\n      <td>literal</td>\n      <td>indie game</td>\n    </tr>\n  </tbody>\n</table>\n<p>48493 rows × 6 columns</p>\n</div>"
     },
     "execution_count": 24,
     "metadata": {},
     "output_type": "execute_result"
    }
   ],
   "source": [
    "game_genre_df = pd.json_normalize(games_result['results']['bindings'])\n",
    "game_genre_df"
   ],
   "metadata": {
    "collapsed": false
   }
  },
  {
   "cell_type": "code",
   "execution_count": 25,
   "outputs": [
    {
     "data": {
      "text/plain": "array(['strategy video game', '4X', 'simulation video game',\n       'turn-based strategy video game', 'grand strategy wargame',\n       'real-time tactics', 'multiple perspectives role-playing',\n       'tactical role-playing game', 'racing video game', 'indie game',\n       'puzzle-platformer', 'action game', 'platform game',\n       'action-adventure game', 'third-person shooter', 'stealth game',\n       'shooter game', 'real-time strategy', 'first-person shooter',\n       'card game video game', 'fantasy video game',\n       'science fiction video game', 'fantasy', \"shoot 'em up\",\n       'psychological horror', 'adventure game',\n       'massively multiplayer online role-playing game',\n       'action role-playing game', \"beat 'em up\", 'visual novel', 'harem',\n       'eroge', 'school anime and manga', 'drama anime and manga',\n       'romance anime and manga', 'sim racing', 'life simulation game',\n       'massively multiplayer online real-time strategy game',\n       'Christmas video game', 'party video game', 'city-building game',\n       'sports video game', 'trivia', 'strategy game',\n       '2D computer graphics', 'arcade-style video game',\n       'halloween video game', 'zombie video game', 'fighting game',\n       'Breakout clone', 'puzzle video game', 'cyberpunk video game',\n       'video game with LGBT character', 'landscape art',\n       'role-playing video game', 'virtual world',\n       'romance adventure game', 'fantasy anime and manga',\n       'crossover fiction', 'vehicular combat game', 'music video game',\n       'bishōjo game', 'rhythm game', 'post apocalyptic video game',\n       'making-of', 'space combat simulation game', 'bowling video game',\n       'military education and training', '3D computer graphics software',\n       'game creation system', 'boxing video game', 'maze video game',\n       'side-scrolling video game', 'scrolling shooter', 'Metroidvania',\n       'interactive fiction', 'space flight simulation game',\n       'space trading and combat game', 'fishing video game',\n       'government simulation game',\n       'construction and management simulation',\n       'science fantasy video game', 'survival horror',\n       'collect-a-thon platformer', 'massively multiplayer online game',\n       'business simulation game', 'hentai', 'wargame', 'historic game',\n       'multiplayer online battle arena', 'tile-matching video game',\n       'science fiction', 'mystery fiction', 'roguelike',\n       'point-and-click adventure', 'submarine simulator',\n       'military science fiction', 'hack and slash', 'dungeon crawl',\n       'apocalyptic and post-apocalyptic fiction', 'tactical shooter',\n       'interactive film', 'dating sim',\n       'association football video game', 'tank simulation game',\n       'otome game', 'romantic comedy anime and manga',\n       'social simulation game', 'educational video game', 'high fantasy',\n       'survival game', 'Tron-like', 'serious game', 'sandbox game',\n       'two-dimensional space', 'space opera video game',\n       'hybrid literary genre', 'god game', 'text-based game',\n       'combat flight simulator', 'sports manager video game',\n       'cinematic platformer', 'LGBTI+ related video game',\n       'artillery game', 'basketball video game', 'neo-noir',\n       'party game', 'walking simulator', 'rail shooter',\n       'collectible card video game', 'magical girl',\n       'athletics video game', 'action anime and manga',\n       'platform fighter', 'collectible card game', 'horror literature',\n       'casual game', 'casino game', 'graphic adventure game', 'art game',\n       'computer wargame', 'turn-based tactics', 'mecha', 'ecchi',\n       'exergaming', 'novel', 'tennis video game',\n       'American football video game', 'turn based JRPG', 'tube shooter',\n       'combat', 'dance video game', 'professional wrestling',\n       'ice hockey video game', 'adult video game', 'advergame',\n       'character-action video game', 'robinsonade', 'flight simulation',\n       'light gun shooter', 'browser game', 'drama film', 'patience',\n       'sport', 'flight simulator', 'pinball machine game',\n       'massively multiplayer browser role-playing game',\n       'adventure anime and manga', 'science fiction anime and manga',\n       'adventure',\n       'massively multiplayer online first-person shooter game',\n       'bullet hell', 'episodic video game', 'minigame',\n       'golf video game', 'digital pet', 'pinball video game',\n       'yuri game', 'LGBTI+ related TV series', 'cabal shooter',\n       'winter sports video game', 'non-game', 'video game art',\n       'Ship Simulator', 'video game compilation', 'dark fantasy',\n       'space opera', 'vertically scrolling shooter',\n       'battle royale game', 'space simulator',\n       'alternate history video game', 'hard science fiction video game',\n       'sudoku video game', 'run and gun', 'hunting video game',\n       'tower defense', 'train simulator', 'sword and sorcery',\n       'baseball video game', 'comedy anime and manga',\n       'cheerleading video game', 'mech simulator', 'kart racing game',\n       'simulation game', 'yuri', 'horror anime and manga', 'auto racing',\n       'romance novel', 'traffic simulation game', 'computer chess',\n       'dark fantasy video game', 'educational entertainment',\n       'ice hockey management game', 'aerial warfare', 'programming game',\n       'grand strategy', 'comedy', 'yaoi game', 'nonogram video game',\n       'detective and mystery video game', 'management', 'roguelite',\n       'chess video game', 'comedy drama', 'beach volleyball video game',\n       'vehicle simulation game', 'MUD', 'comic fantasy',\n       'Christian video game', 'board game', 'olympic video game',\n       'online game', 'love triangle romance', 'supernatural anime',\n       'ship simulator', 'first-person view', 'pool', 'truck simulator',\n       'superhero fiction', 'physics game', 'adult comics', 'yaoi',\n       'skateboarding video game', 'multidirectional shooter',\n       'turns, rounds and time-keeping systems in games',\n       'strategy guide', 'tabletop role-playing game',\n       'association football management game', 'vampire anime and manga',\n       'motocycle simulator', 'card battle video game',\n       'poker video game', 'mixed martial arts',\n       'snowboarding video game', 'full motion video',\n       'horror video game', 'handball video game', 'capture the flag',\n       'isometric video game graphics', 'fiction',\n       'psychological thriller', 'urban fantasy', 'drama',\n       'fantasy sports video game', 'Eastern role-playing game',\n       'psychological horror video game', 'heavy metal', 'black comedy',\n       'satirical video game', 'party', 'biopunk', 'comics',\n       'fixed shooter', 'Gore', 'endless runner game', 'urban crawl',\n       'propaganda', 'satire', 'film noir', 'gallows humor',\n       'dystopian fiction', 'post-apocalyptic anime and manga', 'music',\n       'text-based', 'match-three video game',\n       'list of video games based on anime or manga', 'karate video game',\n       'romantic comedy', 'roller skating video game', 'memento mori',\n       'historical fiction', 'machine translation',\n       'time management video game', 'astronomy', 'citizen science',\n       'human-based computation game', 'fantasy film',\n       'professional wrestling video game', 'artificial life',\n       'mahjong video game', 'B movie', 'parody', 'incremental game',\n       'equestrian video game', 'nonlinear gameplay', 'free-to-play',\n       'social network game', 'thriller', 'board game video game',\n       'cracker', 'photography game', 'arcade racing game',\n       'augmented reality', 'targeting', 'tactical wargame',\n       'vampire video game', 'karaoke video game',\n       'list of artificial pet games', 'art', 'cricket video game',\n       'pachinko', 'first-person adventure', 'romance film',\n       'volleyball video game', 'extreme sport', 'multiplayer video game',\n       'snooker', 'game show video game', 'superhero', 'scrolling',\n       'tile-based game', 'Transport puzzle', 'medieval fantasy',\n       'Super Scope', 'detective fiction', '3D computer graphics',\n       'boxing', 'racing', 'sumo wrestling video game', 'arena',\n       'BMX video game', 'erotica', 'skiing video game', 'Reversi',\n       'family drama', 'list of party video games', 'naval warfare',\n       'cycling video game', 'horizontally scrolling shooter', 'rhythm',\n       'extreme sports video game', 'zombie apocalyptic fiction',\n       'slice of life anime and manga', 'multiplayer online game',\n       'light gun', 'falling block puzzle game', 'time travel video game',\n       'wrestling', 'Christmas film', 'Formula One', 'BASIC',\n       'traditional video game', 'game show', 'quiz',\n       'gambling video game', 'cue sports',\n       'Category:Mech simulation video games', 'backgammon video game',\n       'martial arts video game', 'trivia video game',\n       'surfing video game', 'word game', 'lifestyle',\n       'off-road racing video game', 'World War I', 'off-road racing',\n       'Pong', 'Space Combat', 'mind game', 'Dancing',\n       'third-person view', '3D video game', 'poker', 'aerobics',\n       'driving simulator', 'Concentration', 'Matching game', 'hunting',\n       'arena football', 'adult animation', 'checkers video game',\n       'space', 'skeet shooting', 'physics', 'gambling',\n       'language learning video game', 'education', 'World War II',\n       'MUSH', 'bowling', 'interactive art', 'low fantasy', 'Family game',\n       'audio game', 'stunt racing video game', 'jigsaw puzzle',\n       'snowboarding', 'online and offline', 'cricket',\n       'speculative fiction novel', 'Global warming game', 'jousteling',\n       'pop music', 'Australian football video game', 'speed reading',\n       'language arts', 'spelling', 'strategy', 'wine harvest',\n       'tournament', 'miniature golf',\n       'list of multiplayer browser games',\n       'science fiction television series', 'educational software',\n       'bingo', 'horse racing', 'gaelic games video game',\n       'lacrosse video game', 'simulation', 'agricultural science',\n       'player versus player', 'space combat simulator', 'typing tutor',\n       'chess', 'paintball video game', 'autobiography',\n       'utility software', 'drinking game', 'parlour game', 'quest',\n       'massively multiplayer browser game', 'occult detective fiction',\n       'Southern Gothic', 'miniature golf video game', 'Kinect',\n       'steampunk', 'water sports video game', 'learning', 'shogi',\n       'massively multiplayer online third-person shooter game',\n       'sound novel', 'multicart', 'cheating', 'history',\n       'rugby union video game', 'pub game', 'darts video game', 'war',\n       'economics', 'alternate reality game', 'steampunk video game',\n       'air hockey video game', 'bat-and-ball game',\n       'bus simulation video game', 'mating', 'spot the difference',\n       'dodgeball video game', 'raising sim video game',\n       'magical girl video game', 'photography', 'strip poker video game',\n       'supernatural horror game', 'role-playing (behavior)',\n       'floorball video game', 'Dynamical simulation', 'The 3D Gamemaker',\n       'instant messaging', 'pool video game', 'dōjin game',\n       'science fantasy', 'social networking service', 'design', 'J-pop',\n       'snooker video game', 'furry fandom', 'MU*', 'Dungeons & Dragons',\n       'karaoke', 'figure skating video game', 'news', 'game of skill',\n       'thrust-clone', 'graphic novel', 'play', 'performance',\n       'time management', 'Demolition derby', 'cooking',\n       'virtual reality', 'horse racing video game', 'show jumping',\n       'role-playing game', 'NASCAR video game', 'television comedy',\n       'race game', 'game of chance', 'entertainment', 'rallying',\n       'hockey video game', 'video game graphics', 'horror fiction',\n       'quiz video game', 'dictionary', 'learning material', 'golf',\n       'application', 'future', 'encyclopedia', 'productivity',\n       'biathlon video game', 'comedy film', 'strategic game', 'kemono',\n       'business magnate', 'suspense anime and manga', 'RPG',\n       'falling-sand game', 'action puzzle video game', 'romance',\n       'Internet forum', 'drama television series', 'romance game',\n       'shogi video game', 'fantasy sport', 'judo video game', 'Western',\n       'historical fantasy', 'gacha game', 'puzzle', 'soulslike',\n       'level editor', 'military', 'German-style board game',\n       'hero shooter', 'interactive storytelling', 'PlayStation Move',\n       'Formula One racing', 'electronic game', 'endless video game',\n       'ghost story', 'Q4011394', 'ship personification',\n       'supernatural fiction', 'fashion and beauty video game', 'Luna',\n       'scuba diving video game', 'hard science fiction', 'arena shooter',\n       'deck-building game', 'co-op mode', 'tabletop game',\n       'motocross racing video game', 'immersive sim',\n       'interactive novel', 'flight', 'single-player video game',\n       'social deduction game', 'one-move game', 'abstract art',\n       'time-travel television program', 'tech noir', 'anime',\n       'emergent gameplay', 'card game', 'boss game',\n       'vertically scrolling video game',\n       'personal water craft racing video game', 'running',\n       \"children's game\", 'mixed martial arts video game',\n       'coming-of-age fiction', 'Monopoly', 'guessing game', 'chiptune',\n       'road movie', 'isekai', 'Canadian football video game',\n       'online crane game', 'wuxia', 'boomer shooter', 'game jam',\n       'adventure fiction', 'board video game', 'fairy tale',\n       'farming simulation video game', 'adventure novel',\n       'fan-adventure', 'Grand Theft Auto clone',\n       'abstract strategy game', 'VR video game', 'parody video game',\n       'flight simulation video game', 'sailing simulator',\n       'twin-stick shooter', 'DATA CARDDASS',\n       'roguelike deck-building game', 'escape the room',\n       'cue sports video game', 'hidden object game', 'gender bender',\n       'narration', 'crossword video game', 'pornography',\n       'crime fiction', 'list of ninja video games',\n       'racing management video game', 'railway game', 'action fiction',\n       'location-based game', 'side-scrolling role-playing video game',\n       'historical drama', 'crying game',\n       'http://www.wikidata.org/.well-known/genid/02b8d222741aa29c50a7e6fbba10b875',\n       'auto battler', 'Category:Virtual reality games', 'escape room',\n       'http://www.wikidata.org/.well-known/genid/401f7d7185ae9a6eb6a908daa352f9e5',\n       'slice of life', 'archery video game', 'parkour video game',\n       'family film', 'virtual tour', 'cyberpunk', 'soft science fiction',\n       'video game', 'online creation', 'video game music',\n       'turn-based role-playing game',\n       'http://www.wikidata.org/.well-known/genid/4a512dd4f9b02169e96f3f224ea9d704',\n       'http://www.wikidata.org/.well-known/genid/8d04c13886e95d90c45a86d999eb40b2',\n       'curling video game', 'horror eroge', 'interactive DVD game',\n       'pornographic film', 'mobile game', 'drawing', 'futanari',\n       'Hyper-casual game', 'newsgame', 'cycle sport',\n       'brain fitness video game', 'Chinese whispers', 'retro video game',\n       'roguevania', 'Q11327529', 'crowd-combat video game',\n       'virtual petting simulator', 'typing game', 'turn-based',\n       'yandere',\n       'http://www.wikidata.org/.well-known/genid/8507a02f59bb7ec1d5c3cac0bf868541',\n       'detective video game', 'lovecraftian horror video game',\n       'blackjack video game',\n       'http://www.wikidata.org/.well-known/genid/ceff082ef2f4729cf4ca4392b4cc046c',\n       'http://www.wikidata.org/.well-known/genid/2c5c6bee15039219b01fb12a2dedb2b8',\n       'http://www.wikidata.org/.well-known/genid/b60b15064e88fdeb08312ac7209a6b81',\n       'http://www.wikidata.org/.well-known/genid/fdea707b4edfe1b37e43cfe3c56ed30f',\n       'http://www.wikidata.org/.well-known/genid/b1dda562eb1bf8e2fa337c76f06b173b',\n       'political video game', 'rally racing video game',\n       \"side-scrolling beat 'em up\", 'supercross racing video game',\n       'Superbike racing video game', 'kaiju', 'MilSim', 'Plataforma',\n       \"Texas hold 'em video game\", 'violence', 'Go software',\n       'jigsaw puzzle video game', 'tentacle erotica',\n       'coloring book game', 'gomoku video game',\n       'motorcycle racing video game', 'top-down shooter',\n       'cosmic horror', 'comedy video game', 'open world',\n       'Arcade Game Series', 'virtual community'], dtype=object)"
     },
     "execution_count": 25,
     "metadata": {},
     "output_type": "execute_result"
    }
   ],
   "source": [
    "unique_game_genre_df = game_genre_df['genreLabel.value'].unique()\n",
    "unique_game_genre_df"
   ],
   "metadata": {
    "collapsed": false
   }
  },
  {
   "cell_type": "code",
   "execution_count": 47,
   "outputs": [
    {
     "data": {
      "text/plain": "genreLabel.value\n2D computer graphics              9\n3D computer graphics              7\n3D computer graphics software     1\n3D video game                     3\n4X                               58\n                                 ..\nyaoi game                        62\nyuri                              6\nyuri game                        38\nzombie apocalyptic fiction        4\nzombie video game                 3\nName: objectLabel.value, Length: 691, dtype: int64"
     },
     "execution_count": 47,
     "metadata": {},
     "output_type": "execute_result"
    }
   ],
   "source": [
    "test = game_genre_df.groupby(['genreLabel.value'])['objectLabel.value'].count()\n",
    "test"
   ],
   "metadata": {
    "collapsed": false
   }
  }
 ],
 "metadata": {
  "kernelspec": {
   "display_name": "Python [conda env:ada] *",
   "language": "python",
   "name": "conda-env-ada-py"
  },
  "language_info": {
   "codemirror_mode": {
    "name": "ipython",
    "version": 3
   },
   "file_extension": ".py",
   "mimetype": "text/x-python",
   "name": "python",
   "nbconvert_exporter": "python",
   "pygments_lexer": "ipython3",
   "version": "3.9.13"
  }
 },
 "nbformat": 4,
 "nbformat_minor": 5
}
